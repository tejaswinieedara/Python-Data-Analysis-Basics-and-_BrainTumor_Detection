{
  "nbformat": 4,
  "nbformat_minor": 0,
  "metadata": {
    "colab": {
      "provenance": []
    },
    "kernelspec": {
      "name": "python3",
      "display_name": "Python 3"
    },
    "language_info": {
      "name": "python"
    }
  },
  "cells": [
    {
      "cell_type": "code",
      "execution_count": null,
      "metadata": {
        "id": "WjJjgCLR8J0T"
      },
      "outputs": [],
      "source": [
        "import tensorflow as tf\n",
        "from tensorflow import keras\n",
        "from tensorflow.keras import layers\n",
        "from tensorflow.keras.preprocessing.image import ImageDataGenerator"
      ]
    },
    {
      "cell_type": "code",
      "source": [
        "#define image size and batch size\n",
        "IMG_SIZE=224\n",
        "BATCH_SIZE=32"
      ],
      "metadata": {
        "id": "Lp3uN6t8805a"
      },
      "execution_count": null,
      "outputs": []
    },
    {
      "cell_type": "code",
      "source": [
        "#define data generator for train,validation and test sets\n",
        "train_datagen=ImageDataGenerator(\n",
        "    rescale=1./255,\n",
        "    validation_split=0.2\n",
        ")\n",
        "train_generator=train_datagen.flow_from_directory(\n",
        "        '/content/drive/MyDrive/Brain_Tumor_Detection/Brain_Tumor_Detection/train',\n",
        "        target_size=(IMG_SIZE,IMG_SIZE),\n",
        "        batch_size=BATCH_SIZE,\n",
        "        class_mode='binary',\n",
        "        subset='training'\n",
        "\n",
        ")\n",
        "val_generator=train_datagen.flow_from_directory(\n",
        "     '/content/drive/MyDrive/Brain_Tumor_Detection/Brain_Tumor_Detection/train',\n",
        "        target_size=(IMG_SIZE,IMG_SIZE),\n",
        "        batch_size=BATCH_SIZE,\n",
        "        class_mode='binary',\n",
        "        subset='training'\n",
        ")\n",
        "test_datagen=ImageDataGenerator(rescale=1./225,validation_split=0.2)\n",
        "test_generator=train_datagen.flow_from_directory(\n",
        "        '/content/drive/MyDrive/Brain_Tumor_Detection/Brain_Tumor_Detection/test',\n",
        "        target_size=(IMG_SIZE, IMG_SIZE),\n",
        "        batch_size=BATCH_SIZE,\n",
        "        class_mode='binary',\n",
        "        subset='training'\n",
        ")"
      ],
      "metadata": {
        "id": "ZQhDHsFi9AyF",
        "colab": {
          "base_uri": "https://localhost:8080/"
        },
        "outputId": "632e5ba6-6555-4a13-ae5b-3c362469b10c"
      },
      "execution_count": null,
      "outputs": [
        {
          "output_type": "stream",
          "name": "stdout",
          "text": [
            "Found 2400 images belonging to 2 classes.\n",
            "Found 2400 images belonging to 2 classes.\n",
            "Found 48 images belonging to 1 classes.\n"
          ]
        }
      ]
    },
    {
      "cell_type": "code",
      "source": [
        "from google.colab import drive\n",
        "drive.mount('/content/drive')"
      ],
      "metadata": {
        "colab": {
          "base_uri": "https://localhost:8080/"
        },
        "id": "vWQ1GXwqiHIc",
        "outputId": "4d6357be-7356-465c-85af-ec480888e07d"
      },
      "execution_count": null,
      "outputs": [
        {
          "output_type": "stream",
          "name": "stdout",
          "text": [
            "Mounted at /content/drive\n"
          ]
        }
      ]
    },
    {
      "cell_type": "code",
      "source": [
        "#define the model\n",
        "model=keras.Sequential([\n",
        "    layers.Conv2D(32,(3,3),activation='relu',input_shape=(IMG_SIZE,IMG_SIZE,3)),\n",
        "    layers.MaxPooling2D((2,2)),\n",
        "    layers.Conv2D(64,(3,3),activation='relu'),\n",
        "    layers.MaxPooling2D((2,2)),\n",
        "    layers.Conv2D(128,(3,3),activation='relu'),\n",
        "    layers.MaxPooling2D((2,2)),\n",
        "    layers.Flatten(),\n",
        "    layers.Dense(128,activation='relu'),\n",
        "    layers.Dense(1,activation='sigmoid')\n",
        "    ])"
      ],
      "metadata": {
        "id": "wMtaa9LJiPiR"
      },
      "execution_count": null,
      "outputs": []
    },
    {
      "cell_type": "code",
      "source": [
        "#compile the model\n",
        "model.compile(optimizer='adam',loss='binary_crossentropy',metrics=['accuracy'])"
      ],
      "metadata": {
        "id": "RUXoJS7Wmub0"
      },
      "execution_count": null,
      "outputs": []
    },
    {
      "cell_type": "code",
      "source": [
        "model.save(\"Model.h5\",\"label.txt\")"
      ],
      "metadata": {
        "id": "6Cb4299spxo4",
        "colab": {
          "base_uri": "https://localhost:8080/"
        },
        "outputId": "1f945995-f5f8-4799-8ffd-560ff1d5cd0b"
      },
      "execution_count": null,
      "outputs": [
        {
          "output_type": "stream",
          "name": "stderr",
          "text": [
            "/usr/local/lib/python3.10/dist-packages/keras/src/engine/training.py:3103: UserWarning: You are saving your model as an HDF5 file via `model.save()`. This file format is considered legacy. We recommend using instead the native Keras format, e.g. `model.save('my_model.keras')`.\n",
            "  saving_api.save_model(\n"
          ]
        }
      ]
    },
    {
      "cell_type": "code",
      "source": [
        "history=model.fit(train_generator,validation_data=val_generator,epochs=5)"
      ],
      "metadata": {
        "id": "qwVpREZRnG5w",
        "colab": {
          "base_uri": "https://localhost:8080/"
        },
        "outputId": "2d8a30b3-1bd6-4b8f-f694-bd9ee0acd582"
      },
      "execution_count": null,
      "outputs": [
        {
          "output_type": "stream",
          "name": "stdout",
          "text": [
            "Epoch 1/5\n",
            "75/75 [==============================] - 566s 7s/step - loss: 0.4940 - accuracy: 0.7937 - val_loss: 0.2337 - val_accuracy: 0.9133\n",
            "Epoch 2/5\n",
            "75/75 [==============================] - 329s 4s/step - loss: 0.2213 - accuracy: 0.9158 - val_loss: 0.1645 - val_accuracy: 0.9371\n",
            "Epoch 3/5\n",
            "75/75 [==============================] - 331s 4s/step - loss: 0.1165 - accuracy: 0.9579 - val_loss: 0.0466 - val_accuracy: 0.9912\n",
            "Epoch 4/5\n",
            "75/75 [==============================] - 330s 4s/step - loss: 0.0672 - accuracy: 0.9771 - val_loss: 0.0519 - val_accuracy: 0.9867\n",
            "Epoch 5/5\n",
            "75/75 [==============================] - 331s 4s/step - loss: 0.0374 - accuracy: 0.9875 - val_loss: 0.0151 - val_accuracy: 0.9962\n"
          ]
        }
      ]
    },
    {
      "cell_type": "code",
      "source": [
        "from tensorflow.keras.models import load_model\n",
        "from tensorflow.keras.preprocessing import image\n",
        "import numpy as np"
      ],
      "metadata": {
        "id": "uo-m2zr5pR1h"
      },
      "execution_count": null,
      "outputs": []
    },
    {
      "cell_type": "code",
      "source": [
        "#load the saved model\n",
        "model=load_model('/content/Model.h5')"
      ],
      "metadata": {
        "id": "pu6fEmI5poMd"
      },
      "execution_count": null,
      "outputs": []
    },
    {
      "cell_type": "code",
      "source": [
        "#load and preprocessor the test image\n",
        "test_image_path='/content/drive/MyDrive/Brain_Tumor_Detection/Brain_Tumor_Detection/train/yes/y1.jpg'\n",
        "img=image.load_img(test_image_path,target_size=(224,224))\n",
        "img_array=image.img_to_array(img)\n",
        "img_array=np.expand_dims(img_array,axis=0) #add batch dimenssion\n",
        "img_array /=225. #normalize the pixel values\n"
      ],
      "metadata": {
        "id": "k82CNm26tbsL"
      },
      "execution_count": null,
      "outputs": []
    },
    {
      "cell_type": "code",
      "source": [
        "#make prediction\n",
        "prediction=model.predict(img_array)\n",
        "#print the prediction\n",
        "if prediction<0.5:\n",
        "  print(\"prediction: no tumor (Probability:\" , prediction[0][0],\")\")\n",
        "else:\n",
        "  print(\"prediction: tumor present (Probability:\" , prediction[0][0],\")\")"
      ],
      "metadata": {
        "id": "qicaOKfiujSC",
        "colab": {
          "base_uri": "https://localhost:8080/"
        },
        "outputId": "7925e487-038a-47e7-c5c1-e6eebab5bd64"
      },
      "execution_count": null,
      "outputs": [
        {
          "output_type": "stream",
          "name": "stdout",
          "text": [
            "1/1 [==============================] - 0s 233ms/step\n",
            "prediction: no tumor (Probability: 0.46698347 )\n"
          ]
        }
      ]
    }
  ]
}