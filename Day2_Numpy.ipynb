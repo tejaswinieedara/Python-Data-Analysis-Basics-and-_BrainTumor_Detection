{
  "nbformat": 4,
  "nbformat_minor": 0,
  "metadata": {
    "colab": {
      "provenance": []
    },
    "kernelspec": {
      "name": "python3",
      "display_name": "Python 3"
    },
    "language_info": {
      "name": "python"
    }
  },
  "cells": [
    {
      "cell_type": "code",
      "execution_count": null,
      "metadata": {
        "id": "8cvzXXkFq2HP"
      },
      "outputs": [],
      "source": [
        "import numpy as np\n",
        "#random module is sub pacakge in numpy"
      ]
    },
    {
      "cell_type": "code",
      "source": [
        "a=np.random.rand(1)\n",
        "print(a)"
      ],
      "metadata": {
        "colab": {
          "base_uri": "https://localhost:8080/"
        },
        "id": "4bhCu1XHugio",
        "outputId": "19f72f64-776f-4baa-e95d-edfde2526744"
      },
      "execution_count": null,
      "outputs": [
        {
          "output_type": "stream",
          "name": "stdout",
          "text": [
            "[0.22975704]\n"
          ]
        }
      ]
    },
    {
      "cell_type": "code",
      "source": [
        "a=np.random.rand(8,4)#rand range is in b/w 0 and 1\n",
        "print(a)"
      ],
      "metadata": {
        "colab": {
          "base_uri": "https://localhost:8080/"
        },
        "id": "uOl5Ex8UunTO",
        "outputId": "790b1a7d-7797-4744-b2d2-35223bb782b7"
      },
      "execution_count": null,
      "outputs": [
        {
          "output_type": "stream",
          "name": "stdout",
          "text": [
            "[[0.34937923 0.24678692 0.55374846 0.73025869]\n",
            " [0.71213702 0.074126   0.30681432 0.77584638]\n",
            " [0.35185022 0.83818047 0.10192129 0.97941619]\n",
            " [0.79967963 0.57098792 0.69167152 0.02623299]\n",
            " [0.52514733 0.6959197  0.16247685 0.48007103]\n",
            " [0.49316527 0.77033029 0.68712134 0.59277137]\n",
            " [0.04813535 0.40737189 0.60943912 0.45348719]\n",
            " [0.34647358 0.05482996 0.65099123 0.65178965]]\n"
          ]
        }
      ]
    },
    {
      "cell_type": "code",
      "source": [
        "a=10*np.random.rand(8,4)#rand range is in b/w 0 and 1\n",
        "print(a)"
      ],
      "metadata": {
        "colab": {
          "base_uri": "https://localhost:8080/"
        },
        "id": "F17QnQkdvBiD",
        "outputId": "51b4c8d1-db2f-4255-fba9-c49f5d9d437a"
      },
      "execution_count": null,
      "outputs": [
        {
          "output_type": "stream",
          "name": "stdout",
          "text": [
            "[[9.81869023 1.58667028 9.5662499  4.8377747 ]\n",
            " [1.73703926 8.40820249 0.9149554  4.97807964]\n",
            " [0.2011202  6.85414148 2.97022404 6.23687522]\n",
            " [4.19887605 1.99765427 4.28714812 6.79357003]\n",
            " [4.85253715 3.12546848 0.08638084 2.7588413 ]\n",
            " [2.45487379 6.42874592 3.45850614 8.40931948]\n",
            " [7.72693036 6.49581765 8.32023929 9.70795121]\n",
            " [3.28272707 5.17074789 6.95495011 8.13824254]]\n"
          ]
        }
      ]
    },
    {
      "cell_type": "code",
      "source": [
        "a=np.floor(10*np.random.rand(8,4))#rand range is in b/w 0 and 1\n",
        "print(a)"
      ],
      "metadata": {
        "colab": {
          "base_uri": "https://localhost:8080/"
        },
        "id": "xsOLXPa_vHnB",
        "outputId": "30482cac-67a6-404f-fb34-974d1b960bdf"
      },
      "execution_count": null,
      "outputs": [
        {
          "output_type": "stream",
          "name": "stdout",
          "text": [
            "[[0. 4. 1. 5.]\n",
            " [8. 3. 5. 4.]\n",
            " [6. 9. 9. 3.]\n",
            " [3. 4. 5. 2.]\n",
            " [3. 9. 9. 8.]\n",
            " [8. 0. 3. 7.]\n",
            " [7. 7. 6. 4.]\n",
            " [1. 2. 9. 5.]]\n"
          ]
        }
      ]
    },
    {
      "cell_type": "code",
      "source": [
        "a=np.arange(1,33).reshape(8,4)\n",
        "print(a)"
      ],
      "metadata": {
        "colab": {
          "base_uri": "https://localhost:8080/"
        },
        "id": "DABe3fXev3UW",
        "outputId": "9a1ecceb-07be-41cb-915b-02f35053758f"
      },
      "execution_count": null,
      "outputs": [
        {
          "output_type": "stream",
          "name": "stdout",
          "text": [
            "[[ 1  2  3  4]\n",
            " [ 5  6  7  8]\n",
            " [ 9 10 11 12]\n",
            " [13 14 15 16]\n",
            " [17 18 19 20]\n",
            " [21 22 23 24]\n",
            " [25 26 27 28]\n",
            " [29 30 31 32]]\n"
          ]
        }
      ]
    },
    {
      "cell_type": "markdown",
      "source": [
        "splitting an array"
      ],
      "metadata": {
        "id": "z_r5pTnGwYIf"
      }
    },
    {
      "cell_type": "code",
      "source": [
        "np.vsplit(a,4)#vertical split can be done only when the given num is a multiple of no of rows"
      ],
      "metadata": {
        "colab": {
          "base_uri": "https://localhost:8080/"
        },
        "id": "gCAGW-7Lwahr",
        "outputId": "0d94567b-323d-4aa6-d9a6-065f904f273a"
      },
      "execution_count": null,
      "outputs": [
        {
          "output_type": "execute_result",
          "data": {
            "text/plain": [
              "[array([[1, 2, 3, 4],\n",
              "        [5, 6, 7, 8]]),\n",
              " array([[ 9, 10, 11, 12],\n",
              "        [13, 14, 15, 16]]),\n",
              " array([[17, 18, 19, 20],\n",
              "        [21, 22, 23, 24]]),\n",
              " array([[25, 26, 27, 28],\n",
              "        [29, 30, 31, 32]])]"
            ]
          },
          "metadata": {},
          "execution_count": 14
        }
      ]
    },
    {
      "cell_type": "code",
      "source": [
        "np.vsplit(a,(2,7))#splits after 2nd line and 7th line"
      ],
      "metadata": {
        "colab": {
          "base_uri": "https://localhost:8080/"
        },
        "id": "c_HV4FFux9gg",
        "outputId": "d4ad6952-94ee-4c1c-ae7e-405ec9a44409"
      },
      "execution_count": null,
      "outputs": [
        {
          "output_type": "execute_result",
          "data": {
            "text/plain": [
              "[array([[1, 2, 3, 4],\n",
              "        [5, 6, 7, 8]]),\n",
              " array([[ 9, 10, 11, 12],\n",
              "        [13, 14, 15, 16],\n",
              "        [17, 18, 19, 20],\n",
              "        [21, 22, 23, 24],\n",
              "        [25, 26, 27, 28]]),\n",
              " array([[29, 30, 31, 32]])]"
            ]
          },
          "metadata": {},
          "execution_count": 19
        }
      ]
    },
    {
      "cell_type": "code",
      "source": [
        "b=np.arange(1,33).reshape(4,8)\n",
        "print(b)"
      ],
      "metadata": {
        "colab": {
          "base_uri": "https://localhost:8080/"
        },
        "id": "hjq-S3xJzgk7",
        "outputId": "f1845446-2a3c-42c7-8ba6-00800165961f"
      },
      "execution_count": null,
      "outputs": [
        {
          "output_type": "stream",
          "name": "stdout",
          "text": [
            "[[ 1  2  3  4  5  6  7  8]\n",
            " [ 9 10 11 12 13 14 15 16]\n",
            " [17 18 19 20 21 22 23 24]\n",
            " [25 26 27 28 29 30 31 32]]\n"
          ]
        }
      ]
    },
    {
      "cell_type": "code",
      "source": [
        "np.hsplit(b,4)#horizntal split"
      ],
      "metadata": {
        "colab": {
          "base_uri": "https://localhost:8080/"
        },
        "id": "dxkWhvkezzjA",
        "outputId": "846eab00-6146-415a-fc27-2bd056b4f6a6"
      },
      "execution_count": null,
      "outputs": [
        {
          "output_type": "execute_result",
          "data": {
            "text/plain": [
              "[array([[ 1,  2],\n",
              "        [ 9, 10],\n",
              "        [17, 18],\n",
              "        [25, 26]]),\n",
              " array([[ 3,  4],\n",
              "        [11, 12],\n",
              "        [19, 20],\n",
              "        [27, 28]]),\n",
              " array([[ 5,  6],\n",
              "        [13, 14],\n",
              "        [21, 22],\n",
              "        [29, 30]]),\n",
              " array([[ 7,  8],\n",
              "        [15, 16],\n",
              "        [23, 24],\n",
              "        [31, 32]])]"
            ]
          },
          "metadata": {},
          "execution_count": 21
        }
      ]
    },
    {
      "cell_type": "code",
      "source": [
        "np.hsplit(b,(2,3,6))#splits after 2nd,3rd and 6th column"
      ],
      "metadata": {
        "colab": {
          "base_uri": "https://localhost:8080/"
        },
        "id": "PLoUuwb20GHw",
        "outputId": "61f033e4-e447-458a-db0f-c52e74514d9b"
      },
      "execution_count": null,
      "outputs": [
        {
          "output_type": "execute_result",
          "data": {
            "text/plain": [
              "[array([[ 1,  2],\n",
              "        [ 9, 10],\n",
              "        [17, 18],\n",
              "        [25, 26]]),\n",
              " array([[ 3],\n",
              "        [11],\n",
              "        [19],\n",
              "        [27]]),\n",
              " array([[ 4,  5,  6],\n",
              "        [12, 13, 14],\n",
              "        [20, 21, 22],\n",
              "        [28, 29, 30]]),\n",
              " array([[ 7,  8],\n",
              "        [15, 16],\n",
              "        [23, 24],\n",
              "        [31, 32]])]"
            ]
          },
          "metadata": {},
          "execution_count": 28
        }
      ]
    },
    {
      "cell_type": "markdown",
      "source": [
        "Trignometry and statistics"
      ],
      "metadata": {
        "id": "_MCxVJJT3gjB"
      }
    },
    {
      "cell_type": "code",
      "source": [
        "np.pi"
      ],
      "metadata": {
        "colab": {
          "base_uri": "https://localhost:8080/"
        },
        "id": "DI4PHtTD1aPb",
        "outputId": "2cb06ba7-bfeb-4615-ded1-c3d16b2184e9"
      },
      "execution_count": null,
      "outputs": [
        {
          "output_type": "execute_result",
          "data": {
            "text/plain": [
              "3.141592653589793"
            ]
          },
          "metadata": {},
          "execution_count": 29
        }
      ]
    },
    {
      "cell_type": "code",
      "source": [
        "A=[np.pi/4,np.pi/3,np.pi/2,np.pi]\n",
        "print(A)"
      ],
      "metadata": {
        "colab": {
          "base_uri": "https://localhost:8080/"
        },
        "id": "TPFa9ASN3mnm",
        "outputId": "8f1517af-11df-497b-9289-6ab192eebc8b"
      },
      "execution_count": null,
      "outputs": [
        {
          "output_type": "stream",
          "name": "stdout",
          "text": [
            "[0.7853981633974483, 1.0471975511965976, 1.5707963267948966, 3.141592653589793]\n"
          ]
        }
      ]
    },
    {
      "cell_type": "code",
      "source": [
        "B=np.rad2deg(A)#converts radians to degree\n",
        "print(B)"
      ],
      "metadata": {
        "colab": {
          "base_uri": "https://localhost:8080/"
        },
        "id": "q6z14ZtE4BtD",
        "outputId": "5232e925-3544-4514-8d5e-10f3a27529dd"
      },
      "execution_count": null,
      "outputs": [
        {
          "output_type": "stream",
          "name": "stdout",
          "text": [
            "[ 45.  60.  90. 180.]\n"
          ]
        }
      ]
    },
    {
      "cell_type": "code",
      "source": [
        "np.deg2rad(B)"
      ],
      "metadata": {
        "colab": {
          "base_uri": "https://localhost:8080/"
        },
        "id": "TIdLEfY74Owo",
        "outputId": "30024548-ca07-4772-d37c-6d252167afcf"
      },
      "execution_count": null,
      "outputs": [
        {
          "output_type": "execute_result",
          "data": {
            "text/plain": [
              "array([0.78539816, 1.04719755, 1.57079633, 3.14159265])"
            ]
          },
          "metadata": {},
          "execution_count": 35
        }
      ]
    },
    {
      "cell_type": "code",
      "source": [
        "np.sin(1)#radians"
      ],
      "metadata": {
        "colab": {
          "base_uri": "https://localhost:8080/"
        },
        "id": "NTCUMC8V6AH5",
        "outputId": "c1657dbc-a819-49d1-f3c1-d37c53079e9a"
      },
      "execution_count": null,
      "outputs": [
        {
          "output_type": "execute_result",
          "data": {
            "text/plain": [
              "0.8414709848078965"
            ]
          },
          "metadata": {},
          "execution_count": 36
        }
      ]
    },
    {
      "cell_type": "code",
      "source": [
        "np.cos(1)"
      ],
      "metadata": {
        "colab": {
          "base_uri": "https://localhost:8080/"
        },
        "id": "41FEUlYj6C05",
        "outputId": "d69d22c6-2c04-42ec-d948-7a3b70931059"
      },
      "execution_count": null,
      "outputs": [
        {
          "output_type": "execute_result",
          "data": {
            "text/plain": [
              "0.5403023058681398"
            ]
          },
          "metadata": {},
          "execution_count": 37
        }
      ]
    },
    {
      "cell_type": "code",
      "source": [
        "np.tan(1)"
      ],
      "metadata": {
        "colab": {
          "base_uri": "https://localhost:8080/"
        },
        "id": "Y4xEkfQZ6Ehw",
        "outputId": "bf4eb333-d160-4b69-a440-ac5bef5ac318"
      },
      "execution_count": null,
      "outputs": [
        {
          "output_type": "execute_result",
          "data": {
            "text/plain": [
              "1.5574077246549023"
            ]
          },
          "metadata": {},
          "execution_count": 38
        }
      ]
    },
    {
      "cell_type": "markdown",
      "source": [
        "statistics"
      ],
      "metadata": {
        "id": "Y5Aey2436o-A"
      }
    },
    {
      "cell_type": "code",
      "source": [
        "st=np.array([23,45,67,89,21,34])"
      ],
      "metadata": {
        "id": "cO_b4iYy6qhV"
      },
      "execution_count": null,
      "outputs": []
    },
    {
      "cell_type": "code",
      "source": [
        "np.mean(st)"
      ],
      "metadata": {
        "colab": {
          "base_uri": "https://localhost:8080/"
        },
        "id": "Y-vjngcN66r1",
        "outputId": "ae6d179f-cc22-47e0-a0c7-04e13218b4f7"
      },
      "execution_count": null,
      "outputs": [
        {
          "output_type": "execute_result",
          "data": {
            "text/plain": [
              "46.5"
            ]
          },
          "metadata": {},
          "execution_count": 44
        }
      ]
    },
    {
      "cell_type": "code",
      "source": [
        "np.median(st)"
      ],
      "metadata": {
        "colab": {
          "base_uri": "https://localhost:8080/"
        },
        "id": "ZdYm0UFc7Lbs",
        "outputId": "848daeb2-94ed-48ef-ca2f-dd8c28706928"
      },
      "execution_count": null,
      "outputs": [
        {
          "output_type": "execute_result",
          "data": {
            "text/plain": [
              "39.5"
            ]
          },
          "metadata": {},
          "execution_count": 45
        }
      ]
    },
    {
      "cell_type": "code",
      "source": [
        "np.std(st)#std=sqrt((sigma(xi-x)^2)/n) where xi=indvidual element and x = mean n= no of elements"
      ],
      "metadata": {
        "colab": {
          "base_uri": "https://localhost:8080/"
        },
        "id": "vZWTTX_v8nJj",
        "outputId": "708be50e-8f1e-43ce-8b13-56e3c75d8313"
      },
      "execution_count": null,
      "outputs": [
        {
          "output_type": "execute_result",
          "data": {
            "text/plain": [
              "24.452334585202017"
            ]
          },
          "metadata": {},
          "execution_count": 47
        }
      ]
    },
    {
      "cell_type": "code",
      "source": [
        "np.var(st)#var=(std)^2"
      ],
      "metadata": {
        "colab": {
          "base_uri": "https://localhost:8080/"
        },
        "id": "7owgaB9n7d6m",
        "outputId": "116a2478-1f52-4c58-c3af-9aedcda920ce"
      },
      "execution_count": null,
      "outputs": [
        {
          "output_type": "execute_result",
          "data": {
            "text/plain": [
              "597.9166666666666"
            ]
          },
          "metadata": {},
          "execution_count": 46
        }
      ]
    },
    {
      "cell_type": "code",
      "source": [
        "C=np.arange(1,5).reshape(2,2)\n",
        "print(C)"
      ],
      "metadata": {
        "colab": {
          "base_uri": "https://localhost:8080/"
        },
        "id": "PTGKhs3o-eI6",
        "outputId": "5635f85d-46b6-4521-cecb-8f6631053072"
      },
      "execution_count": null,
      "outputs": [
        {
          "output_type": "stream",
          "name": "stdout",
          "text": [
            "[[1 2]\n",
            " [3 4]]\n"
          ]
        }
      ]
    },
    {
      "cell_type": "code",
      "source": [
        "np.linalg.inv(C)#linear algebra is a sub pakage in numpy"
      ],
      "metadata": {
        "colab": {
          "base_uri": "https://localhost:8080/"
        },
        "id": "cpRMToy4-39J",
        "outputId": "a05aabc3-8ede-455c-db44-15864ba779c1"
      },
      "execution_count": null,
      "outputs": [
        {
          "output_type": "execute_result",
          "data": {
            "text/plain": [
              "array([[-2. ,  1. ],\n",
              "       [ 1.5, -0.5]])"
            ]
          },
          "metadata": {},
          "execution_count": 49
        }
      ]
    },
    {
      "cell_type": "code",
      "source": [
        "C=np.arange(1,25).reshape(6,4)\n",
        "print(C)\n",
        "print(np.argmax(C))#argmax will provide you the index of highest number in the given matrix"
      ],
      "metadata": {
        "colab": {
          "base_uri": "https://localhost:8080/"
        },
        "id": "oOt9vvdw_QQA",
        "outputId": "bbe663c2-80bb-48a1-a8c2-abb676be77ec"
      },
      "execution_count": null,
      "outputs": [
        {
          "output_type": "stream",
          "name": "stdout",
          "text": [
            "[[ 1  2  3  4]\n",
            " [ 5  6  7  8]\n",
            " [ 9 10 11 12]\n",
            " [13 14 15 16]\n",
            " [17 18 19 20]\n",
            " [21 22 23 24]]\n",
            "23\n"
          ]
        }
      ]
    },
    {
      "cell_type": "code",
      "source": [
        "C=np.floor(10*np.random.rand(24)).reshape(6,4)\n",
        "print(C)"
      ],
      "metadata": {
        "colab": {
          "base_uri": "https://localhost:8080/"
        },
        "id": "d3kOZYZpAzLD",
        "outputId": "3314c727-cbec-4d92-8d90-0d9a376af6c3"
      },
      "execution_count": null,
      "outputs": [
        {
          "output_type": "stream",
          "name": "stdout",
          "text": [
            "[[1. 4. 0. 7.]\n",
            " [3. 6. 5. 8.]\n",
            " [9. 4. 0. 1.]\n",
            " [3. 0. 2. 9.]\n",
            " [1. 1. 8. 4.]\n",
            " [3. 1. 5. 3.]]\n"
          ]
        }
      ]
    },
    {
      "cell_type": "code",
      "source": [
        "print(np.argmax(C))#highest element in matrix is 9 and it is present in both 8th and 15th postion\n",
        "#but argmax consider the 8th position element as it comes first while traversing"
      ],
      "metadata": {
        "colab": {
          "base_uri": "https://localhost:8080/"
        },
        "id": "gM91wCFmBFh3",
        "outputId": "7f0692ad-088a-4fe2-eda4-4389f3c642d5"
      },
      "execution_count": null,
      "outputs": [
        {
          "output_type": "stream",
          "name": "stdout",
          "text": [
            "8\n"
          ]
        }
      ]
    },
    {
      "cell_type": "code",
      "source": [
        "D=10*np.random.rand(24).reshape(6,4)\n",
        "print(D)"
      ],
      "metadata": {
        "colab": {
          "base_uri": "https://localhost:8080/"
        },
        "id": "3tgOleDnCP7l",
        "outputId": "eb5bae52-6b3b-4b58-bf0b-d8833630da39"
      },
      "execution_count": null,
      "outputs": [
        {
          "output_type": "stream",
          "name": "stdout",
          "text": [
            "[[6.44404866 1.86020535 0.27262437 6.25177854]\n",
            " [9.59072609 6.66088224 4.59422427 2.19808141]\n",
            " [9.9885429  6.57685544 3.26439498 2.98370284]\n",
            " [5.46829114 9.3397044  9.49611905 4.95345547]\n",
            " [2.16455952 9.81523651 9.70353449 8.21954919]\n",
            " [2.44820214 3.38729735 5.78494259 0.36974223]]\n"
          ]
        }
      ]
    },
    {
      "cell_type": "code",
      "source": [
        "print(np.argmax(D,axis=1))#argmax with axis=1 will provide you the index of highest number in each individual row in the given matrix"
      ],
      "metadata": {
        "colab": {
          "base_uri": "https://localhost:8080/"
        },
        "id": "DtMheFf4Coti",
        "outputId": "ba1ed900-d247-4e07-8635-602e0b009045"
      },
      "execution_count": null,
      "outputs": [
        {
          "output_type": "stream",
          "name": "stdout",
          "text": [
            "[0 0 0 2 1 2]\n"
          ]
        }
      ]
    },
    {
      "cell_type": "code",
      "source": [
        "print(np.argmax(D,axis=0))#argmax with axis=0 will provide you the index of highest number in each individual coloumn in the given matrix"
      ],
      "metadata": {
        "colab": {
          "base_uri": "https://localhost:8080/"
        },
        "id": "FLbue6-MDRxU",
        "outputId": "93fb0541-82ae-4707-b37a-c79f08885263"
      },
      "execution_count": null,
      "outputs": [
        {
          "output_type": "stream",
          "name": "stdout",
          "text": [
            "[2 4 4 4]\n"
          ]
        }
      ]
    },
    {
      "cell_type": "markdown",
      "source": [
        "we can use argmin as like argmax"
      ],
      "metadata": {
        "id": "ez7Rw6sQEZZw"
      }
    },
    {
      "cell_type": "code",
      "source": [
        "print(np.argmin(D,axis=1))"
      ],
      "metadata": {
        "colab": {
          "base_uri": "https://localhost:8080/"
        },
        "id": "CCp7o9IYEf8g",
        "outputId": "d501cb5b-3ac5-42c4-e7ab-2e5d08784013"
      },
      "execution_count": null,
      "outputs": [
        {
          "output_type": "stream",
          "name": "stdout",
          "text": [
            "[2 3 3 3 0 3]\n"
          ]
        }
      ]
    },
    {
      "cell_type": "code",
      "source": [
        "print(np.argmin(D,axis=0))"
      ],
      "metadata": {
        "colab": {
          "base_uri": "https://localhost:8080/"
        },
        "id": "w7UFrdQLE_0Q",
        "outputId": "154848eb-fb49-46f7-b5e9-ee1e8b54745e"
      },
      "execution_count": null,
      "outputs": [
        {
          "output_type": "stream",
          "name": "stdout",
          "text": [
            "[4 0 0 5]\n"
          ]
        }
      ]
    },
    {
      "cell_type": "markdown",
      "source": [
        "searching the indices based on conditions"
      ],
      "metadata": {
        "id": "K-9Uww2dFeAK"
      }
    },
    {
      "cell_type": "code",
      "source": [
        "#finding indixes where the values are even\n",
        "a=np.array([34,56,17,89,91])\n",
        "print(np.where(a%2==0))"
      ],
      "metadata": {
        "colab": {
          "base_uri": "https://localhost:8080/"
        },
        "id": "Ie7lD5f8FlF2",
        "outputId": "29b5a5e9-9cb7-4861-dd35-02aaac5ce3b7"
      },
      "execution_count": null,
      "outputs": [
        {
          "output_type": "stream",
          "name": "stdout",
          "text": [
            "(array([0, 1]),)\n"
          ]
        }
      ]
    },
    {
      "cell_type": "code",
      "source": [
        "b=np.array([24,16,7,17,54,60])\n",
        "print(np.where(b%6==0))"
      ],
      "metadata": {
        "colab": {
          "base_uri": "https://localhost:8080/"
        },
        "id": "HDg2BBxRGk7v",
        "outputId": "1e4b9fa1-caed-40ad-dbbc-5e1c18382815"
      },
      "execution_count": null,
      "outputs": [
        {
          "output_type": "stream",
          "name": "stdout",
          "text": [
            "(array([0, 4, 5]),)\n"
          ]
        }
      ]
    },
    {
      "cell_type": "code",
      "source": [
        "#searching is done only for sorted list\n",
        "a=np.array([6,7,8,9,10])\n",
        "x=np.searchsorted(a,10)\n",
        "print(x)"
      ],
      "metadata": {
        "colab": {
          "base_uri": "https://localhost:8080/"
        },
        "id": "EQtESbOSHT-v",
        "outputId": "a20daa9c-23cd-4cce-8fd3-fcebe1f38097"
      },
      "execution_count": null,
      "outputs": [
        {
          "output_type": "stream",
          "name": "stdout",
          "text": [
            "4\n"
          ]
        }
      ]
    },
    {
      "cell_type": "code",
      "source": [
        "#unsorted list\n",
        "b=np.array([34,12,7])\n",
        "x=np.searchsorted(b,7)\n",
        "print(x)"
      ],
      "metadata": {
        "colab": {
          "base_uri": "https://localhost:8080/"
        },
        "id": "iewicIZdHr-m",
        "outputId": "a462c989-ede5-460d-94c3-0e225332f13f"
      },
      "execution_count": null,
      "outputs": [
        {
          "output_type": "stream",
          "name": "stdout",
          "text": [
            "0\n"
          ]
        }
      ]
    },
    {
      "cell_type": "markdown",
      "source": [
        "sorting array"
      ],
      "metadata": {
        "id": "BKYTbJyVIj13"
      }
    },
    {
      "cell_type": "code",
      "source": [
        "arr=np.array(['banana','cherry','apple'])\n",
        "ar=np.array([True, False, True])#VALUE FOR FALSE=0 AND VALUE FOR TRUE=1\n",
        "print(np.sort(arr))\n",
        "print(np.sort(ar))"
      ],
      "metadata": {
        "colab": {
          "base_uri": "https://localhost:8080/"
        },
        "id": "Ncdh9kDdInIf",
        "outputId": "aff094a5-3fe1-4368-d92a-211d5c5793ab"
      },
      "execution_count": null,
      "outputs": [
        {
          "output_type": "stream",
          "name": "stdout",
          "text": [
            "['apple' 'banana' 'cherry']\n",
            "[False  True  True]\n"
          ]
        }
      ]
    },
    {
      "cell_type": "code",
      "source": [
        "#2d-sort:sorting happens within a row\n",
        "arr=np.array([[3,2,4],[5,0,1]])\n",
        "print(np.sort(arr))"
      ],
      "metadata": {
        "colab": {
          "base_uri": "https://localhost:8080/"
        },
        "id": "_JMc9U90J78e",
        "outputId": "02806ac5-1de1-46b4-ae84-c3eaad7de119"
      },
      "execution_count": null,
      "outputs": [
        {
          "output_type": "stream",
          "name": "stdout",
          "text": [
            "[[2 3 4]\n",
            " [0 1 5]]\n"
          ]
        }
      ]
    },
    {
      "cell_type": "markdown",
      "source": [
        "Filter"
      ],
      "metadata": {
        "id": "UEYO2UDqMM-t"
      }
    },
    {
      "cell_type": "code",
      "source": [
        "#array filter\n",
        "arr=np.array([40,42,50,44,67,78])\n",
        "x=[True,False,True,False,True,True]#filter list\n",
        "newarr=arr[x]\n",
        "print(newarr)"
      ],
      "metadata": {
        "colab": {
          "base_uri": "https://localhost:8080/"
        },
        "id": "AQb9FRCZKg8F",
        "outputId": "f5f4be31-e2ac-43f2-c0a1-2049e7354397"
      },
      "execution_count": null,
      "outputs": [
        {
          "output_type": "stream",
          "name": "stdout",
          "text": [
            "[40 50 67 78]\n"
          ]
        }
      ]
    },
    {
      "cell_type": "code",
      "source": [
        "arr=np.array([40,43,50,44,67,78])\n",
        "filt=np.where(arr%2==0)\n",
        "print(filt)"
      ],
      "metadata": {
        "colab": {
          "base_uri": "https://localhost:8080/"
        },
        "id": "dj0EVqieLZhw",
        "outputId": "9ec9ffad-6495-47db-b67a-dbab71cdef84"
      },
      "execution_count": null,
      "outputs": [
        {
          "output_type": "stream",
          "name": "stdout",
          "text": [
            "(array([0, 2, 3, 5]),)\n"
          ]
        }
      ]
    },
    {
      "cell_type": "code",
      "source": [
        "arr[filt]#array_name[index]"
      ],
      "metadata": {
        "colab": {
          "base_uri": "https://localhost:8080/"
        },
        "id": "jlliR1QPLuwj",
        "outputId": "84d0cdf7-25dc-4387-d178-266382f85129"
      },
      "execution_count": null,
      "outputs": [
        {
          "output_type": "execute_result",
          "data": {
            "text/plain": [
              "array([40, 50, 44, 78])"
            ]
          },
          "metadata": {},
          "execution_count": 79
        }
      ]
    },
    {
      "cell_type": "markdown",
      "source": [
        "itterating through 2 arrays"
      ],
      "metadata": {
        "id": "bxrTg7kFOlsx"
      }
    },
    {
      "cell_type": "code",
      "source": [
        "names=np.array([\"kusu\",\"teju\",\"rams\",\"veens\",\"sadhu\",\"kavs\",\"varsh\",\"lorry\"])\n",
        "initials=np.array([\"B\",\"E\",\"G\",\"J\",\"M\",\"T\",\"V\",\"Y\"])\n",
        "for i,j in zip(initials,names):\n",
        "  print(i,\".\",j)\n"
      ],
      "metadata": {
        "colab": {
          "base_uri": "https://localhost:8080/"
        },
        "id": "Jgagdi3JOqzT",
        "outputId": "c415e76c-3f58-4d08-ddb8-a0304a3241ef"
      },
      "execution_count": null,
      "outputs": [
        {
          "output_type": "stream",
          "name": "stdout",
          "text": [
            "B . kusu\n",
            "E . teju\n",
            "G . rams\n",
            "J . veens\n",
            "M . sadhu\n",
            "T . kavs\n",
            "V . varsh\n",
            "Y . lorry\n"
          ]
        }
      ]
    },
    {
      "cell_type": "code",
      "source": [
        "a1=np.array([10,20,30,40,50,60])\n",
        "a2=np.array([20,21,22,23,24,25])\n",
        "n1=np.multiply(a1,a2)\n",
        "print(n1)"
      ],
      "metadata": {
        "colab": {
          "base_uri": "https://localhost:8080/"
        },
        "id": "voK2NG6tQrqM",
        "outputId": "1a41f2e2-aec7-4493-892d-1381905c194b"
      },
      "execution_count": null,
      "outputs": [
        {
          "output_type": "stream",
          "name": "stdout",
          "text": [
            "[ 200  420  660  920 1200 1500]\n"
          ]
        }
      ]
    },
    {
      "cell_type": "code",
      "source": [
        "a1=np.array([10,20,30,40,50,60])\n",
        "a2=np.array([20,21,22,23,24,25])\n",
        "n2=np.divide(a1,a2)\n",
        "print(n2)"
      ],
      "metadata": {
        "colab": {
          "base_uri": "https://localhost:8080/"
        },
        "id": "lBkLuwt9RhvG",
        "outputId": "6a83f6c1-bffc-450a-e7ea-8ffafc7bec99"
      },
      "execution_count": null,
      "outputs": [
        {
          "output_type": "stream",
          "name": "stdout",
          "text": [
            "[0.5        0.95238095 1.36363636 1.73913043 2.08333333 2.4       ]\n"
          ]
        }
      ]
    },
    {
      "cell_type": "code",
      "source": [
        "a1=np.array([10,20,30,40,50,60])\n",
        "a2=np.array([20,21,22,23,24,25])\n",
        "n3=np.mod(a1,a2)\n",
        "print(n3)"
      ],
      "metadata": {
        "colab": {
          "base_uri": "https://localhost:8080/"
        },
        "id": "c2dLeVNhRmzS",
        "outputId": "7c204d52-b563-4e4c-a8ea-f436d95f2664"
      },
      "execution_count": null,
      "outputs": [
        {
          "output_type": "stream",
          "name": "stdout",
          "text": [
            "[10 20  8 17  2 10]\n"
          ]
        }
      ]
    },
    {
      "cell_type": "code",
      "source": [
        "a1=np.array([10,20,30,40,50,60])\n",
        "a2=np.array([20,21,22,23,24,25])\n",
        "n4=np.divmod(a1,a2)\n",
        "print(n4)"
      ],
      "metadata": {
        "colab": {
          "base_uri": "https://localhost:8080/"
        },
        "id": "b_u4UaZWRy2L",
        "outputId": "ce6976f2-f73b-4da6-899a-be9f224b67fe"
      },
      "execution_count": null,
      "outputs": [
        {
          "output_type": "stream",
          "name": "stdout",
          "text": [
            "(array([0, 0, 1, 1, 2, 2]), array([10, 20,  8, 17,  2, 10]))\n"
          ]
        }
      ]
    },
    {
      "cell_type": "markdown",
      "source": [
        "logarithms"
      ],
      "metadata": {
        "id": "pza954IqSrOi"
      }
    },
    {
      "cell_type": "code",
      "source": [
        "a1=1.2\n",
        "print(np.log(a1))#natural log e"
      ],
      "metadata": {
        "colab": {
          "base_uri": "https://localhost:8080/"
        },
        "id": "gYdDpXfpSs5Y",
        "outputId": "f39cbbbd-8840-4e1c-c502-1e0a7b5d459c"
      },
      "execution_count": null,
      "outputs": [
        {
          "output_type": "stream",
          "name": "stdout",
          "text": [
            "0.1823215567939546\n"
          ]
        }
      ]
    },
    {
      "cell_type": "code",
      "source": [
        "a1=1.2\n",
        "print(np.log2(a1))#log base 2"
      ],
      "metadata": {
        "colab": {
          "base_uri": "https://localhost:8080/"
        },
        "id": "0keEGy-fTVZD",
        "outputId": "3b59961d-7913-4a7b-89a7-20df6c90db12"
      },
      "execution_count": null,
      "outputs": [
        {
          "output_type": "stream",
          "name": "stdout",
          "text": [
            "0.2630344058337938\n"
          ]
        }
      ]
    },
    {
      "cell_type": "code",
      "source": [
        "a1=1.2\n",
        "print(np.log10(a1))#log base 10"
      ],
      "metadata": {
        "colab": {
          "base_uri": "https://localhost:8080/"
        },
        "id": "Tqd-MwCkThfb",
        "outputId": "417ae9d3-1758-44c7-8734-5d6957cc82dc"
      },
      "execution_count": null,
      "outputs": [
        {
          "output_type": "stream",
          "name": "stdout",
          "text": [
            "0.07918124604762482\n"
          ]
        }
      ]
    },
    {
      "cell_type": "code",
      "source": [
        "a=np.array([1,2,3,4,5,6,7])\n",
        "print(np.log(a))"
      ],
      "metadata": {
        "colab": {
          "base_uri": "https://localhost:8080/"
        },
        "id": "GJ1hEZLYTtof",
        "outputId": "89bdffcc-4c5a-40e8-ca50-79cb94dd4fcd"
      },
      "execution_count": null,
      "outputs": [
        {
          "output_type": "stream",
          "name": "stdout",
          "text": [
            "[0.         0.69314718 1.09861229 1.38629436 1.60943791 1.79175947\n",
            " 1.94591015]\n"
          ]
        }
      ]
    },
    {
      "cell_type": "code",
      "source": [
        "a=np.array([1,2,3,4,5,6,7])\n",
        "print(np.log2(a))"
      ],
      "metadata": {
        "colab": {
          "base_uri": "https://localhost:8080/"
        },
        "id": "tiExvDKzTPU4",
        "outputId": "cf945cae-084a-489c-ce31-396578aa4069"
      },
      "execution_count": null,
      "outputs": [
        {
          "output_type": "stream",
          "name": "stdout",
          "text": [
            "[0.         1.         1.5849625  2.         2.32192809 2.5849625\n",
            " 2.80735492]\n"
          ]
        }
      ]
    },
    {
      "cell_type": "markdown",
      "source": [
        "other mathematical functions"
      ],
      "metadata": {
        "id": "KOo8IoJ0Uxjy"
      }
    },
    {
      "cell_type": "code",
      "source": [
        "#cummulative product\n",
        "a1=np.array([5,6,7,10])\n",
        "x=np.cumprod(a1)\n",
        "print(x)"
      ],
      "metadata": {
        "colab": {
          "base_uri": "https://localhost:8080/"
        },
        "id": "rOgmk2J9UpBq",
        "outputId": "c07ab553-42eb-463b-c6f0-84c570aa1c4c"
      },
      "execution_count": null,
      "outputs": [
        {
          "output_type": "stream",
          "name": "stdout",
          "text": [
            "[   5   30  210 2100]\n"
          ]
        }
      ]
    },
    {
      "cell_type": "code",
      "source": [
        "#cummulative sum\n",
        "a1=np.array([5,6,7,10])\n",
        "x=np.cumsum(a1)\n",
        "print(x)"
      ],
      "metadata": {
        "colab": {
          "base_uri": "https://localhost:8080/"
        },
        "id": "9zqhadN5WMls",
        "outputId": "1e781e0b-0fbc-4e25-f3a3-886465e0a1e1"
      },
      "execution_count": null,
      "outputs": [
        {
          "output_type": "stream",
          "name": "stdout",
          "text": [
            "[ 5 11 18 28]\n"
          ]
        }
      ]
    },
    {
      "cell_type": "code",
      "source": [
        "#differnce\n",
        "a2=np.array([10,15,25,15])#e2-e1\n",
        "new=np.diff(a2)\n",
        "print(new)"
      ],
      "metadata": {
        "colab": {
          "base_uri": "https://localhost:8080/"
        },
        "id": "obRJArQ0VBLT",
        "outputId": "e8627d52-e94d-49fd-e426-293cbf7c3a0f"
      },
      "execution_count": null,
      "outputs": [
        {
          "output_type": "stream",
          "name": "stdout",
          "text": [
            "[  5  10 -10]\n"
          ]
        }
      ]
    },
    {
      "cell_type": "code",
      "source": [
        "#lcm\n",
        "n1=455\n",
        "n2=665\n",
        "x=np.lcm(n1,n2)\n",
        "print(x)"
      ],
      "metadata": {
        "colab": {
          "base_uri": "https://localhost:8080/"
        },
        "id": "h_DX7LypVfDp",
        "outputId": "2ef8ffc4-00d3-4ae4-d9b2-4d4317e39959"
      },
      "execution_count": null,
      "outputs": [
        {
          "output_type": "stream",
          "name": "stdout",
          "text": [
            "8645\n"
          ]
        }
      ]
    },
    {
      "cell_type": "code",
      "source": [
        "#gcd\n",
        "n1=455\n",
        "n2=665\n",
        "x=np.gcd(n1,n2)\n",
        "print(x)"
      ],
      "metadata": {
        "colab": {
          "base_uri": "https://localhost:8080/"
        },
        "id": "3Dc1Xip2VzY_",
        "outputId": "8ac874a6-0409-4611-b68a-b9475a03c0d5"
      },
      "execution_count": null,
      "outputs": [
        {
          "output_type": "stream",
          "name": "stdout",
          "text": [
            "35\n"
          ]
        }
      ]
    },
    {
      "cell_type": "code",
      "source": [
        "#finding gcd for array of elements\n",
        "a=np.array([12,15,60])\n",
        "gc=np.gcd.reduce(a)#takes multiple inputs and gives single output\n",
        "print(gc)"
      ],
      "metadata": {
        "colab": {
          "base_uri": "https://localhost:8080/"
        },
        "id": "9-YZINhhW_FE",
        "outputId": "769e254d-da9a-4bda-d293-e4e2d2f49106"
      },
      "execution_count": null,
      "outputs": [
        {
          "output_type": "stream",
          "name": "stdout",
          "text": [
            "3\n"
          ]
        }
      ]
    },
    {
      "cell_type": "code",
      "source": [
        "#finding gcd for array of elements\n",
        "a=np.array([12,15,60])\n",
        "lc=np.lcm.reduce(a)#takes multiple inputs and gives single output\n",
        "print(lc)"
      ],
      "metadata": {
        "colab": {
          "base_uri": "https://localhost:8080/"
        },
        "id": "pdWwQgGgXbgr",
        "outputId": "29cdd08c-4ea8-4809-acd6-1bad1e4e900e"
      },
      "execution_count": null,
      "outputs": [
        {
          "output_type": "stream",
          "name": "stdout",
          "text": [
            "60\n"
          ]
        }
      ]
    }
  ]
}